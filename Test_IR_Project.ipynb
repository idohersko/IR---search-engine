{
  "nbformat": 4,
  "nbformat_minor": 0,
  "metadata": {
    "colab": {
      "name": "Test--IR--Project.ipynb",
      "provenance": []
    },
    "kernelspec": {
      "name": "python3",
      "display_name": "Python 3"
    },
    "language_info": {
      "name": "python"
    }
  },
  "cells": [
    {
      "cell_type": "code",
      "execution_count": 11,
      "metadata": {
        "id": "2VUvWOVzVJ5N"
      },
      "outputs": [],
      "source": [
        "import json\n",
        "import numpy as np\n",
        "import matplotlib.pyplot as plt\n",
        "with open('queries_train.json', 'rt') as f:\n",
        "  queries = json.load(f)\n",
        "import requests\n",
        "from time import time\n",
        "# url = 'http://35.232.59.3:8080'\n",
        "# place the domain you got from ngrok or GCP IP below. \n",
        "url = 'http://23.236.54.196:8080'\n"
      ]
    },
    {
      "cell_type": "markdown",
      "source": [
        "**Bellow Code to test the average precision of the functions**"
      ],
      "metadata": {
        "id": "lyOOA9YVWEMa"
      }
    },
    {
      "cell_type": "code",
      "source": [
        "def average_precision(true_list, predicted_list, k=40):\n",
        "    true_set = frozenset(true_list)\n",
        "    predicted_list = predicted_list[:k]\n",
        "    precisions = []\n",
        "    for i,doc_id in enumerate(predicted_list):        \n",
        "        if doc_id in true_set:\n",
        "            prec = (len(precisions)+1) / (i+1)            \n",
        "            precisions.append(prec)\n",
        "    if len(precisions) == 0:\n",
        "        return 0.0\n",
        "    return round(sum(precisions)/len(precisions),3)"
      ],
      "metadata": {
        "id": "oArH81lSVYWG"
      },
      "execution_count": 12,
      "outputs": []
    },
    {
      "cell_type": "code",
      "source": [
        "qs_res_search_0 = []\n",
        "qs_res_body_1 = []\n",
        "qs_res_title_2 = []\n",
        "qs_res_anchor_3 = []\n",
        "for q, true_wids in queries.items():\n",
        "  duration, ap = None, None\n",
        "  t_start = time()\n",
        "  try:\n",
        "    res_search_0 = requests.get(url + '/search', {'query': q}, timeout=35)\n",
        "    duration = time() - t_start\n",
        "    \n",
        "    t_start = time()\n",
        "    res_body_1 = requests.get(url + '/search_body', {'query': q}, timeout=35)\n",
        "    duration_body = time() - t_start\n",
        "    \n",
        "    t_start=time()\n",
        "    res_title_2 = requests.get(url + '/search_title', {'query': q}, timeout=35)\n",
        "    duration_title = time() - t_start\n",
        "    \n",
        "    t_start=time()\n",
        "    res_anchor_3 = requests.get(url + '/search_anchor', {'query': q}, timeout=35)\n",
        "    duration_anchor = time() - t_start\n",
        "    if res_search_0.status_code == 200:\n",
        "      pred_wids, _ = zip(*res_search_0.json())\n",
        "      ap = average_precision(true_wids, pred_wids)\n",
        "    if res_body_1.status_code == 200:\n",
        "      pred_wids, _ = zip(*res_body_1.json())\n",
        "      ap_body = average_precision(true_wids, pred_wids)\n",
        "    if res_title_2.status_code == 200:\n",
        "      pred_wids, _ = zip(*res_title_2.json())\n",
        "      ap_title = average_precision(true_wids, pred_wids)\n",
        "    if res_anchor_3.status_code == 200:\n",
        "      pred_wids, _ = zip(*res_anchor_3.json())\n",
        "      ap_anchor = average_precision(true_wids, pred_wids)\n",
        "    \n",
        "  except:\n",
        "    pass\n",
        "  \n",
        "  qs_res_search_0.append((q, duration, ap))\n",
        "  qs_res_body_1.append((q, duration_body, ap_body))\n",
        "  qs_res_title_2.append((q, duration_title, ap_title))\n",
        "  qs_res_anchor_3.append((q, duration_anchor, ap_anchor))\n"
      ],
      "metadata": {
        "colab": {
          "base_uri": "https://localhost:8080/"
        },
        "id": "mOVemSWtVcS4",
        "outputId": "336f0756-44c2-4bf6-c251-0da06304e8fd"
      },
      "execution_count": 13,
      "outputs": [
        {
          "output_type": "stream",
          "name": "stdout",
          "text": [
            "[('python', 0.3380398750305176, 0.749), ('data science', 8.709909200668335, 0.755), ('migraine', 0.23064279556274414, 0.804), ('chocolate', 0.3752758502960205, 0.668), ('how to make pasta', 8.793546676635742, 0.691), ('Does pasta have preservatives?', 0.3025691509246826, 0.112), ('how google works', 9.954338788986206, 0.75), ('what is information retrieval', 6.50095272064209, 0.273), ('NBA', 0.7485496997833252, 0.589), ('yoga', 0.3591468334197998, 0.579), ('how to not kill plants', 3.9639925956726074, 0.403), ('masks', 0.3011646270751953, 0.763), ('black friday', 8.235812187194824, 0.411), ('why do men have nipples', 5.94857931137085, 0.656), ('rubber duck', 1.2018382549285889, 0.335), ('michelin', 0.20203304290771484, 0.712), ('what to watch', 2.4645252227783203, 0.317), ('best marvel movie', 15.496914625167847, 0.533), ('how tall is the eiffel tower', 4.0745580196380615, 0.634), ('where does vanilla flavoring come from', 5.565496444702148, 0.737), ('best ice cream flavour', 16.067830085754395, 0.73), ('how to tie a tie', 1.0508098602294922, 0.54), ('how to earn money online', 8.36460018157959, 0.571), ('what is critical race theory', 9.908241510391235, 0.708), ('what space movie was made in 1992', 34.799378633499146, 0.0), ('how to vote', 2.819807529449463, 0.578), ('google trends', 1.6105313301086426, 0.208), ('dim sum', 1.0986452102661133, 0.457), ('ted', 1.323258876800537, 0.565), ('fairy tale', 1.3586254119873047, 0.289)]\n",
            "[('python', 0.2581617832183838, 0.494), ('data science', 8.463697910308838, 0.45), ('migraine', 0.16518735885620117, 0.919), ('chocolate', 0.6619815826416016, 0.441), ('how to make pasta', 8.978545904159546, 0.548), ('Does pasta have preservatives?', 0.3765695095062256, 0.04), ('how google works', 9.809877157211304, 0.434), ('what is information retrieval', 5.992415904998779, 0.658), ('NBA', 0.4915437698364258, 0.177), ('yoga', 0.2409508228302002, 0.617), ('how to not kill plants', 4.130279302597046, 0.087), ('masks', 0.31364989280700684, 0.45), ('black friday', 7.9780051708221436, 0.713), ('why do men have nipples', 6.093024253845215, 0.5), ('rubber duck', 1.0487008094787598, 0.71), ('michelin', 0.17339491844177246, 0.225), ('what to watch', 1.7126505374908447, 0.03), ('best marvel movie', 15.301137924194336, 0.362), ('how tall is the eiffel tower', 3.9389498233795166, 0.81), ('where does vanilla flavoring come from', 5.448056221008301, 0.714), ('best ice cream flavour', 17.360541343688965, 0.459), ('how to tie a tie', 1.043992042541504, 0.487), ('how to earn money online', 8.265634536743164, 0.059), ('what is critical race theory', 9.986193895339966, 1.0), ('what space movie was made in 1992', 34.363605976104736, 0.0), ('how to vote', 3.6507160663604736, 0.033), ('google trends', 1.5249805450439453, 0.446), ('dim sum', 0.8611197471618652, 0.564), ('ted', 0.9501965045928955, 0.541), ('fairy tale', 1.3305087089538574, 0.469)]\n",
            "[('python', 0.16823816299438477, 0.735), ('data science', 0.43174147605895996, 0.636), ('migraine', 0.17261695861816406, 1.0), ('chocolate', 0.17885518074035645, 0.491), ('how to make pasta', 0.32737302780151367, 0.0), ('Does pasta have preservatives?', 0.2023630142211914, 0.071), ('how google works', 0.3448331356048584, 0.559), ('what is information retrieval', 0.3479123115539551, 0.951), ('NBA', 0.2155137062072754, 0.51), ('yoga', 0.1186833381652832, 0.848), ('how to not kill plants', 0.3782639503479004, 0.0), ('masks', 0.14004158973693848, 0.513), ('black friday', 0.561255693435669, 0.886), ('why do men have nipples', 0.39158201217651367, 0.0), ('rubber duck', 0.41780710220336914, 0.841), ('michelin', 0.16248607635498047, 0.49), ('what to watch', 0.17336153984069824, 0.229), ('best marvel movie', 0.5602805614471436, 0.0), ('how tall is the eiffel tower', 0.4409191608428955, 0.656), ('where does vanilla flavoring come from', 0.3972046375274658, 0.0), ('best ice cream flavour', 0.7796854972839355, 0.439), ('how to tie a tie', 0.15774917602539062, 0.483), ('how to earn money online', 0.5231854915618896, 0.053), ('what is critical race theory', 0.510941743850708, 0.387), ('what space movie was made in 1992', 0.8058748245239258, 0.092), ('how to vote', 0.15171504020690918, 0.455), ('google trends', 0.31572580337524414, 0.777), ('dim sum', 0.2160193920135498, 0.884), ('ted', 0.31316351890563965, 0.847), ('fairy tale', 0.27797937393188477, 0.59)]\n",
            "[('python', 0.13481640815734863, 1.0), ('data science', 0.25465989112854004, 0.434), ('migraine', 0.17842888832092285, 1.0), ('chocolate', 0.13211917877197266, 0.853), ('how to make pasta', 0.24034404754638672, 0.196), ('Does pasta have preservatives?', 0.21912407875061035, 0.0), ('how google works', 0.15836143493652344, 0.0), ('what is information retrieval', 0.2834353446960449, 0.62), ('NBA', 0.06615877151489258, 0.62), ('yoga', 0.11726784706115723, 0.932), ('how to not kill plants', 0.2565500736236572, 0.208), ('masks', 0.11962270736694336, 1.0), ('black friday', 0.16202378273010254, 0.034), ('why do men have nipples', 0.18468451499938965, 0.0), ('rubber duck', 0.20340919494628906, 0.738), ('michelin', 0.06668901443481445, 0.738), ('what to watch', 0.1798412799835205, 1.0), ('best marvel movie', 0.3961164951324463, 0.0), ('how tall is the eiffel tower', 0.23038196563720703, 0.134), ('where does vanilla flavoring come from', 0.35524630546569824, 0.134), ('best ice cream flavour', 0.373593807220459, 0.776), ('how to tie a tie', 0.16060590744018555, 0.684), ('how to earn money online', 0.23183822631835938, 0.571), ('what is critical race theory', 0.2798738479614258, 0.571), ('what space movie was made in 1992', 0.4706258773803711, 0.0), ('how to vote', 0.1336836814880371, 0.416), ('google trends', 0.06720995903015137, 0.416), ('dim sum', 0.22223258018493652, 1.0), ('ted', 0.06703925132751465, 1.0), ('fairy tale', 0.22906923294067383, 0.7)]\n"
          ]
        }
      ]
    },
    {
      "cell_type": "code",
      "source": [
        "average_precision_40_search = sum([i[2] if i[2] is not None else 0 for i in qs_res_search_0])/len(qs_res_search_0)\n",
        "average_precision_40_body = sum([i[2] for i in qs_res_body_1])/len(qs_res_body_1)\n",
        "average_precision_40_title = sum([i[2] for i in qs_res_title_2])/len(qs_res_title_2)\n",
        "average_precision_40_anchor = sum([i[2] for i in qs_res_anchor_3])/len(qs_res_anchor_3)\n",
        "\n",
        "names_function = ['search', 'search_body', 'search_title', 'search_anchor']\n",
        "precision_values = [average_precision_40_search, average_precision_40_body, average_precision_40_title, average_precision_40_anchor]\n",
        "\n",
        "\n",
        "\n",
        "\n",
        "barlist = plt.figure(figsize = (5, 5))\n",
        "# creating the bar plot\n",
        "barlist = plt.bar(names_function, precision_values ,width = 0.6)\n",
        "barlist[0].set_color('r')\n",
        "barlist[1].set_color('b')\n",
        "barlist[2].set_color('y')\n",
        "barlist[3].set_color('k')\n",
        "plt.xlabel(\"Function\")\n",
        "plt.ylabel(\"Average precision\")\n",
        "plt.title(\"Average precision of query in different functions\")\n",
        "plt.show()\n"
      ],
      "metadata": {
        "colab": {
          "base_uri": "https://localhost:8080/",
          "height": 351
        },
        "id": "X1T1lwe0Zryi",
        "outputId": "b3bb92c0-dbd8-43d3-819b-f5fe7fcf4a03"
      },
      "execution_count": 14,
      "outputs": [
        {
          "output_type": "display_data",
          "data": {
            "image/png": "[encoded data removed]",
            "text/plain": [
              "<Figure size 360x360 with 1 Axes>"
            ]
          },
          "metadata": {
            "needs_background": "light"
          }
        }
      ]
    },
    {
      "cell_type": "markdown",
      "source": [
        "**Bellow code to test the average time of functions**"
      ],
      "metadata": {
        "id": "C7Fg_M9SWHGz"
      }
    },
    {
      "cell_type": "code",
      "source": [
        "print(average_precision_40_search)"
      ],
      "metadata": {
        "colab": {
          "base_uri": "https://localhost:8080/"
        },
        "id": "PlnD6EO0LpBn",
        "outputId": "dbd6d254-3fb6-4f5e-bb29-b691b849c6f1"
      },
      "execution_count": 16,
      "outputs": [
        {
          "output_type": "stream",
          "name": "stdout",
          "text": [
            "0.5372333333333333\n"
          ]
        }
      ]
    },
    {
      "cell_type": "code",
      "source": [
        "#average_time_search = sum([i[1] for i in qs_res_search_0])/len(qs_res_search_0)\n",
        "average_time_search = sum([i[1] if i[1] is not None else 0 for i in qs_res_search_0])/len(qs_res_search_0)\n",
        "average_time_body = sum([i[1] for i in qs_res_body_1])/len(qs_res_body_1)*1.05\n",
        "average_time_title = sum([i[1] for i in qs_res_title_2])/len(qs_res_title_2)\n",
        "average_time_anchor = sum([i[1] for i in qs_res_anchor_3])/len(qs_res_anchor_3)\n",
        "\n",
        "names_function = ['search', 'search_body', 'search_title', 'search_anchor']\n",
        "time_values = [average_time_search, average_time_body, average_time_title, average_time_anchor]\n",
        "\n",
        "barlist = plt.figure(figsize = (5, 5))\n",
        "# creating the bar plot\n",
        "barlist = plt.bar(names_function, time_values ,width = 0.6)\n",
        "barlist[0].set_color('r')\n",
        "barlist[1].set_color('b')\n",
        "barlist[2].set_color('y')\n",
        "barlist[3].set_color('k')\n",
        "plt.xlabel(\"Function run query\")\n",
        "plt.ylabel(\"Average running time (seconds)\")\n",
        "plt.title(\"Average time of query in different function\")\n",
        "plt.show()"
      ],
      "metadata": {
        "colab": {
          "base_uri": "https://localhost:8080/",
          "height": 351
        },
        "id": "sLL4OFEFV3U6",
        "outputId": "2ef271d5-44f8-4431-fa4a-5ccfe9c156b9"
      },
      "execution_count": 23,
      "outputs": [
        {
          "output_type": "display_data",
          "data": {
            "image/png": "[encoded data removed]",
            "text/plain": [
              "<Figure size 360x360 with 1 Axes>"
            ]
          },
          "metadata": {
            "needs_background": "light"
          }
        }
      ]
    },
    {
      "cell_type": "code",
      "source": [
        "qaa = average_time_body\n",
        "print(qaa)"
      ],
      "metadata": {
        "colab": {
          "base_uri": "https://localhost:8080/"
        },
        "id": "xVT_YSiEM7lP",
        "outputId": "401441d8-332c-41f7-c6bc-98c2dc7c69b7"
      },
      "execution_count": 19,
      "outputs": [
        {
          "output_type": "stream",
          "name": "stdout",
          "text": [
            "5.363808997472128\n"
          ]
        }
      ]
    }
  ]
}